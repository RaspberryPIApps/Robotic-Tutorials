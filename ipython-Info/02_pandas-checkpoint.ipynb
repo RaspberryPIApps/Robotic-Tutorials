{
 "metadata": {
  "name": "",
  "signature": "sha256:fdd809b6ab69486d15fef545dacd2aa43b486bc0af6c9b34292041d50758c871"
 },
 "nbformat": 3,
 "nbformat_minor": 0,
 "worksheets": [
  {
   "cells": [
    {
     "cell_type": "markdown",
     "metadata": [],
     "source": [
      "> This is one of the 100 recipes of the [IPython Cookbook](http://ipython-books.github.io/), the definitive guide to high-performance scientific computing and data science in Python.\n"
     ]
    },
    {
     "cell_type": "markdown",
     "metadata": {},
     "source": [
      "# 1.2. Getting started with exploratory data analysis in IPython"
     ]
    },
    {
     "cell_type": "markdown",
     "metadata": {},
     "source": [
      "We will download and process a dataset about attendance on Montreal's bicycle tracks. This example is largely inspired by a presentation from [Julia Evans](http://nbviewer.ipython.org/github/jvns/talks/blob/master/mtlpy35/pistes-cyclables.ipynb)."
     ]
    },
    {
     "cell_type": "markdown",
     "metadata": {},
     "source": [
      "1. The very first step is to import the scientific packages we will be using in this recipe, namely NumPy, Pandas, and matplotlib. We also instruct matplotlib to render the figures as PNG images in the notebook."
     ]
    },
    {
     "cell_type": "code",
     "collapsed": false,
     "input": [
      "import numpy as np\n",
      "import pandas as pd\n",
      "import matplotlib.pyplot as plt\n",
      "%matplotlib inline"
     ],
     "language": "python",
     "metadata": {},
     "outputs": [],
     "prompt_number": 1
    },
    {
     "cell_type": "markdown",
     "metadata": {},
     "source": [
      "2. Now, we create a new Python variable called `url` that contains the address to a CSV (**Comma-separated values**) data file. This standard text-based file format is used to store tabular data."
     ]
    },
    {
     "cell_type": "code",
     "collapsed": false,
     "input": [
      "url = \"http://donnees.ville.montreal.qc.ca/storage/f/2014-01-20T20%3A48%3A50.296Z/2013.csv\""
     ],
     "language": "python",
     "metadata": {},
     "outputs": [],
     "prompt_number": 2
    },
    {
     "cell_type": "markdown",
     "metadata": {},
     "source": [
      "3. Pandas defines a `read_csv` function that can read any CSV file. Here, we give it the URL to the file. Pandas will automatically download and parse the file, and return a `DataFrame` object. We need to specify a few options to make sure the dates are parsed correctly."
     ]
    },
    {
     "cell_type": "code",
     "collapsed": false,
     "input": [
      "df = pd.read_csv(url, index_col='Date', parse_dates=True, dayfirst=True)"
     ],
     "language": "python",
     "metadata": {},
     "outputs": [],
     "prompt_number": 3
    },
    {
     "cell_type": "markdown",
     "metadata": {},
     "source": [
      "4. The `df` variable contains a `DataFrame` object, a specific Pandas data structure that contains 2D tabular data. The `head(n)` method displays the first `n` rows of this table."
     ]
    },
    {
     "cell_type": "code",
     "collapsed": false,
     "input": [
      "df.head(2)"
     ],
     "language": "python",
     "metadata": {
      "strip_output": [
       0,
       0
      ]
     },
     "outputs": [
      {
       "html": [
        "<div style=\"max-height:1000px;max-width:1500px;overflow:auto;\">\n",
        "<table border=\"1\" class=\"dataframe\">\n",
        "  <thead>\n",
        "    <tr style=\"text-align: right;\">\n",
        "      <th></th>\n",
        "      <th>Unnamed: 1</th>\n",
        "      <th>Berri1</th>\n",
        "      <th>CSC</th>\n",
        "      <th>Mais1</th>\n",
        "      <th>Mais2</th>\n",
        "      <th>Parc</th>\n",
        "      <th>PierDup</th>\n",
        "      <th>Rachel1</th>\n",
        "      <th>Totem_Laurier</th>\n",
        "    </tr>\n",
        "    <tr>\n",
        "      <th>Date</th>\n",
        "      <th></th>\n",
        "      <th></th>\n",
        "      <th></th>\n",
        "      <th></th>\n",
        "      <th></th>\n",
        "      <th></th>\n",
        "      <th></th>\n",
        "      <th></th>\n",
        "      <th></th>\n",
        "    </tr>\n",
        "  </thead>\n",
        "  <tbody>\n",
        "    <tr>\n",
        "      <th>2013-01-01</th>\n",
        "      <td> 00:00</td>\n",
        "      <td>  0</td>\n",
        "      <td> 0</td>\n",
        "      <td>  1</td>\n",
        "      <td> 0</td>\n",
        "      <td>  6</td>\n",
        "      <td> 0</td>\n",
        "      <td> 1</td>\n",
        "      <td> 0</td>\n",
        "    </tr>\n",
        "    <tr>\n",
        "      <th>2013-01-02</th>\n",
        "      <td> 00:00</td>\n",
        "      <td> 69</td>\n",
        "      <td> 0</td>\n",
        "      <td> 13</td>\n",
        "      <td> 0</td>\n",
        "      <td> 18</td>\n",
        "      <td> 0</td>\n",
        "      <td> 2</td>\n",
        "      <td> 0</td>\n",
        "    </tr>\n",
        "  </tbody>\n",
        "</table>\n",
        "</div>"
       ],
       "metadata": {},
       "output_type": "pyout",
       "prompt_number": 4,
       "text": [
        "           Unnamed: 1  Berri1  CSC  Mais1  Mais2  Parc  PierDup  Rachel1  \\\n",
        "Date                                                                       \n",
        "2013-01-01      00:00       0    0      1      0     6        0        1   \n",
        "2013-01-02      00:00      69    0     13      0    18        0        2   \n",
        "\n",
        "            Totem_Laurier  \n",
        "Date                       \n",
        "2013-01-01              0  \n",
        "2013-01-02              0  "
       ]
      }
     ],
     "prompt_number": 4
    },
    {
     "cell_type": "markdown",
     "metadata": {},
     "source": [
      "Every row contains the number of bicycles on every track of the city, for every day of the year."
     ]
    },
    {
     "cell_type": "markdown",
     "metadata": {},
     "source": [
      "5. We can get some summary statistics of the table with the `describe` method."
     ]
    },
    {
     "cell_type": "code",
     "collapsed": false,
     "input": [
      "df.describe()"
     ],
     "language": "python",
     "metadata": {
      "strip_output": [
       0,
       0
      ]
     },
     "outputs": [
      {
       "html": [
        "<div style=\"max-height:1000px;max-width:1500px;overflow:auto;\">\n",
        "<table border=\"1\" class=\"dataframe\">\n",
        "  <thead>\n",
        "    <tr style=\"text-align: right;\">\n",
        "      <th></th>\n",
        "      <th>Berri1</th>\n",
        "      <th>CSC</th>\n",
        "      <th>Mais1</th>\n",
        "      <th>Mais2</th>\n",
        "      <th>Parc</th>\n",
        "      <th>PierDup</th>\n",
        "      <th>Rachel1</th>\n",
        "      <th>Totem_Laurier</th>\n",
        "    </tr>\n",
        "  </thead>\n",
        "  <tbody>\n",
        "    <tr>\n",
        "      <th>count</th>\n",
        "      <td>  261.000000</td>\n",
        "      <td>  261.000000</td>\n",
        "      <td>  261.000000</td>\n",
        "      <td>  261.000000</td>\n",
        "      <td>  261.000000</td>\n",
        "      <td>  261.000000</td>\n",
        "      <td>  261.000000</td>\n",
        "      <td>  261.000000</td>\n",
        "    </tr>\n",
        "    <tr>\n",
        "      <th>mean</th>\n",
        "      <td> 2743.390805</td>\n",
        "      <td> 1221.858238</td>\n",
        "      <td> 1757.590038</td>\n",
        "      <td> 3224.130268</td>\n",
        "      <td> 1669.425287</td>\n",
        "      <td> 1152.885057</td>\n",
        "      <td> 3084.425287</td>\n",
        "      <td> 1858.793103</td>\n",
        "    </tr>\n",
        "    <tr>\n",
        "      <th>std</th>\n",
        "      <td> 2247.957848</td>\n",
        "      <td> 1070.037364</td>\n",
        "      <td> 1458.793882</td>\n",
        "      <td> 2589.514354</td>\n",
        "      <td> 1363.738862</td>\n",
        "      <td> 1208.848429</td>\n",
        "      <td> 2380.255540</td>\n",
        "      <td> 1434.899574</td>\n",
        "    </tr>\n",
        "    <tr>\n",
        "      <th>min</th>\n",
        "      <td>    0.000000</td>\n",
        "      <td>    0.000000</td>\n",
        "      <td>    1.000000</td>\n",
        "      <td>    0.000000</td>\n",
        "      <td>    6.000000</td>\n",
        "      <td>    0.000000</td>\n",
        "      <td>    0.000000</td>\n",
        "      <td>    0.000000</td>\n",
        "    </tr>\n",
        "    <tr>\n",
        "      <th>25%</th>\n",
        "      <td>  392.000000</td>\n",
        "      <td>   12.000000</td>\n",
        "      <td>  236.000000</td>\n",
        "      <td>  516.000000</td>\n",
        "      <td>  222.000000</td>\n",
        "      <td>   12.000000</td>\n",
        "      <td>  451.000000</td>\n",
        "      <td>  340.000000</td>\n",
        "    </tr>\n",
        "    <tr>\n",
        "      <th>50%</th>\n",
        "      <td> 2771.000000</td>\n",
        "      <td> 1184.000000</td>\n",
        "      <td> 1706.000000</td>\n",
        "      <td> 3178.000000</td>\n",
        "      <td> 1584.000000</td>\n",
        "      <td>  818.000000</td>\n",
        "      <td> 3111.000000</td>\n",
        "      <td> 2087.000000</td>\n",
        "    </tr>\n",
        "    <tr>\n",
        "      <th>75%</th>\n",
        "      <td> 4767.000000</td>\n",
        "      <td> 2168.000000</td>\n",
        "      <td> 3158.000000</td>\n",
        "      <td> 5812.000000</td>\n",
        "      <td> 3068.000000</td>\n",
        "      <td> 2104.000000</td>\n",
        "      <td> 5338.000000</td>\n",
        "      <td> 3168.000000</td>\n",
        "    </tr>\n",
        "    <tr>\n",
        "      <th>max</th>\n",
        "      <td> 6803.000000</td>\n",
        "      <td> 3330.000000</td>\n",
        "      <td> 4716.000000</td>\n",
        "      <td> 7684.000000</td>\n",
        "      <td> 4103.000000</td>\n",
        "      <td> 4841.000000</td>\n",
        "      <td> 8555.000000</td>\n",
        "      <td> 4293.000000</td>\n",
        "    </tr>\n",
        "  </tbody>\n",
        "</table>\n",
        "</div>"
       ],
       "metadata": {},
       "output_type": "pyout",
       "prompt_number": 5,
       "text": [
        "            Berri1          CSC        Mais1        Mais2         Parc  \\\n",
        "count   261.000000   261.000000   261.000000   261.000000   261.000000   \n",
        "mean   2743.390805  1221.858238  1757.590038  3224.130268  1669.425287   \n",
        "std    2247.957848  1070.037364  1458.793882  2589.514354  1363.738862   \n",
        "min       0.000000     0.000000     1.000000     0.000000     6.000000   \n",
        "25%     392.000000    12.000000   236.000000   516.000000   222.000000   \n",
        "50%    2771.000000  1184.000000  1706.000000  3178.000000  1584.000000   \n",
        "75%    4767.000000  2168.000000  3158.000000  5812.000000  3068.000000   \n",
        "max    6803.000000  3330.000000  4716.000000  7684.000000  4103.000000   \n",
        "\n",
        "           PierDup      Rachel1  Totem_Laurier  \n",
        "count   261.000000   261.000000     261.000000  \n",
        "mean   1152.885057  3084.425287    1858.793103  \n",
        "std    1208.848429  2380.255540    1434.899574  \n",
        "min       0.000000     0.000000       0.000000  \n",
        "25%      12.000000   451.000000     340.000000  \n",
        "50%     818.000000  3111.000000    2087.000000  \n",
        "75%    2104.000000  5338.000000    3168.000000  \n",
        "max    4841.000000  8555.000000    4293.000000  "
       ]
      }
     ],
     "prompt_number": 5
    },
    {
     "cell_type": "markdown",
     "metadata": {},
     "source": [
      "6. Let's display some figures! We will plot the daily attendance of two tracks. First, we select the two columns `'Berri1'` and `'PierDup'`. Then, we call the `plot` method."
     ]
    },
    {
     "cell_type": "code",
     "collapsed": false,
     "input": [
      "# The styling '-' and '--' is just to make the figure\n",
      "# readable in the black & white printed version of this book.\n",
      "df[['Berri1', 'PierDup']].plot(figsize=(8,4),\n",
      "                               style=['-', '--']);"
     ],
     "language": "python",
     "metadata": {},
     "outputs": [
      {
       "metadata": {},
       "output_type": "display_data",
       "png": "[encoded data removed]",
       "text": [
        "<matplotlib.figure.Figure at 0xc2e6b38>"
       ]
      }
     ],
     "prompt_number": 6
    },
    {
     "cell_type": "markdown",
     "metadata": {},
     "source": [
      "7. Now, we move to a slightly more advanced analysis. We will look at the attendance of all tracks as a function of the weekday. We can get the week day easily with Pandas: the `index` attribute of the `DataFrame` contains the dates of all rows in the table. This index has a few date-related attributes, including `weekday`."
     ]
    },
    {
     "cell_type": "code",
     "collapsed": false,
     "input": [
      "df.index.weekday"
     ],
     "language": "python",
     "metadata": {},
     "outputs": [
      {
       "metadata": {},
       "output_type": "pyout",
       "prompt_number": 7,
       "text": [
        "array([1, 2, 3, 4, 5, 6, 0, 1, 2, 3, 4, 5, 6, 0, 1, 2, 3, 4, 5, 6, 0, 1, 2,\n",
        "       3, 4, 5, 6, 0, 1, 2, 3, 4, 5, 6, 0, 1, 2, 3, 4, 5, 6, 0, 1, 2, 3, 4,\n",
        "       5, 6, 0, 1, 2, 3, 4, 5, 6, 0, 1, 2, 3, 4, 5, 6, 0, 1, 2, 3, 4, 5, 6,\n",
        "       0, 1, 2, 3, 4, 5, 6, 0, 1, 2, 3, 4, 5, 6, 0, 1, 2, 3, 4, 5, 6, 0, 1,\n",
        "       2, 3, 4, 5, 6, 0, 1, 2, 3, 4, 5, 6, 0, 1, 2, 3, 4, 5, 6, 0, 1, 2, 3,\n",
        "       4, 5, 6, 0, 1, 2, 3, 4, 5, 6, 0, 1, 2, 3, 4, 5, 6, 0, 1, 2, 3, 4, 5,\n",
        "       6, 0, 1, 2, 3, 4, 5, 6, 0, 1, 2, 3, 4, 5, 6, 0, 1, 2, 3, 4, 5, 6, 0,\n",
        "       1, 2, 3, 4, 5, 6, 0, 1, 2, 3, 4, 5, 6, 0, 1, 2, 3, 4, 5, 6, 0, 1, 2,\n",
        "       3, 4, 5, 6, 0, 1, 2, 3, 4, 5, 6, 0, 1, 2, 3, 4, 5, 6, 0, 1, 2, 3, 4,\n",
        "       5, 6, 0, 1, 2, 3, 4, 5, 6, 0, 1, 2, 3, 4, 5, 6, 0, 1, 2, 3, 4, 5, 6,\n",
        "       0, 1, 2, 3, 4, 5, 6, 0, 1, 2, 3, 4, 5, 6, 0, 1, 2, 3, 4, 5, 6, 0, 1,\n",
        "       2, 3, 4, 5, 6, 0, 1, 2], dtype=int64)"
       ]
      }
     ],
     "prompt_number": 7
    },
    {
     "cell_type": "markdown",
     "metadata": {},
     "source": [
      "However, we would like to have names (Monday, Tuesday, etc.) instead of numbers between 0 and 6. This can be done easily. First, we create an array `days` with all weekday names. Then, we index it by `df.index.weekday`. This operation replaces every integer in the index by the corresponding name in `days`. The first element, `Monday`, has index 0, so every 0 in `df.index.weekday` is replaced by `Monday`, and so on. We assign this new index to a new column `Weekday` in the `DataFrame`."
     ]
    },
    {
     "cell_type": "code",
     "collapsed": false,
     "input": [
      "days = np.array(['Monday', 'Tuesday', 'Wednesday', \n",
      "                 'Thursday', 'Friday', 'Saturday', \n",
      "                 'Sunday'])\n",
      "df['Weekday'] = days[df.index.weekday]\n",
      "df['Weekday']"
     ],
     "language": "python",
     "metadata": {},
     "outputs": [],
     "prompt_number": 9
    },
    {
     "cell_type": "markdown",
     "metadata": {},
     "source": [
      "8. To get the attendance as a function of the weekday, we need to group the table by the weekday. The `groupby` method lets us do just that. Once grouped, we can sum all rows in every group."
     ]
    },
    {
     "cell_type": "code",
     "collapsed": false,
     "input": [
      "df_week = df.groupby('Weekday').sum()"
     ],
     "language": "python",
     "metadata": {},
     "outputs": []
    },
    {
     "cell_type": "code",
     "collapsed": false,
     "input": [
      "df_week"
     ],
     "language": "python",
     "metadata": {
      "strip_output": [
       0,
       0
      ]
     },
     "outputs": []
    },
    {
     "cell_type": "markdown",
     "metadata": {},
     "source": [
      "9. We can now display this information in a figure. We first need to reorder the table by the weekday using `ix` (indexing operation). Then, we plot the table, specifying the line width and the figure size."
     ]
    },
    {
     "cell_type": "code",
     "collapsed": false,
     "input": [
      "df_week.ix[days].plot(lw=3, figsize=(6,4));\n",
      "plt.ylim(0);  # Set the bottom axis to 0."
     ],
     "language": "python",
     "metadata": {},
     "outputs": []
    },
    {
     "cell_type": "markdown",
     "metadata": {},
     "source": [
      "10. Finally, let's illustrate the new interactive capabilities of the notebook in IPython 2.0. We will plot a *smoothed* version of the track attendance as a function of time (**rolling mean**). The idea is to compute the mean value in the neighborhood of any day. The larger the neighborhood, the smoother the curve. We will create an interactive slider in the notebook to vary this parameter in real-time in the plot."
     ]
    },
    {
     "cell_type": "code",
     "collapsed": false,
     "input": [
      "from IPython.html.widgets import interact\n",
      "@interact\n",
      "def plot(n=(1, 30)):\n",
      "    plt.figure(figsize=(8,4));\n",
      "    pd.rolling_mean(df['Berri1'], n).dropna().plot();\n",
      "    plt.ylim(0, 8000);\n",
      "    plt.show();"
     ],
     "language": "python",
     "metadata": {},
     "outputs": []
    },
    {
     "cell_type": "markdown",
     "metadata": {},
     "source": [
      "> You'll find all the explanations, figures, references, and much more in the book (to be released later this summer).\n",
      "\n",
      "> [IPython Cookbook](http://ipython-books.github.io/), by [Cyrille Rossant](http://cyrille.rossant.net), Packt Publishing, 2014 (500 pages)."
     ]
    }
   ],
   "metadata": {}
  }
 ]
}